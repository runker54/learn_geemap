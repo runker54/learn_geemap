{
 "cells": [
  {
   "cell_type": "code",
   "execution_count": 1,
   "metadata": {},
   "outputs": [],
   "source": [
    "import geemap\n",
    "import ee"
   ]
  },
  {
   "cell_type": "code",
   "execution_count": 2,
   "metadata": {},
   "outputs": [],
   "source": [
    "Map = geemap.Map()"
   ]
  },
  {
   "cell_type": "code",
   "execution_count": 3,
   "metadata": {},
   "outputs": [
    {
     "data": {
      "application/vnd.jupyter.widget-view+json": {
       "model_id": "2d65e7b13cd9436389fa28e38c1587c8",
       "version_major": 2,
       "version_minor": 0
      },
      "text/plain": [
       "Map(center=[20, 0], controls=(WidgetControl(options=['position', 'transparent_bg'], widget=HBox(children=(Togg…"
      ]
     },
     "execution_count": 3,
     "metadata": {},
     "output_type": "execute_result"
    }
   ],
   "source": [
    "Map"
   ]
  },
  {
   "cell_type": "code",
   "execution_count": 6,
   "metadata": {},
   "outputs": [
    {
     "name": "stdout",
     "output_type": "stream",
     "text": [
      "珠峰的海拔： 8729\n"
     ]
    }
   ],
   "source": [
    "# 添加dem数据集\n",
    "dem = ee.Image('USGS/SRTMGL1_003')\n",
    "# 设置可视化的参数\n",
    "vis_parama = {\n",
    "    'min':0,\n",
    "    'max':4500,\n",
    "    'palette':['006633', 'E5FFCC', '662A00', 'D8D8D8', 'F5F5F5']\n",
    "}\n",
    "# 获取珠峰的海拔\n",
    "xy = ee.Geometry.Point([86.9250, 27.9881]) # 珠峰的点位\n",
    "elev = dem.sample(xy,30).first().get('elevation').getInfo()\n",
    "print(\"珠峰的海拔：\",elev)"
   ]
  },
  {
   "cell_type": "code",
   "execution_count": 7,
   "metadata": {},
   "outputs": [],
   "source": [
    "# 添加到地图显示\n",
    "Map.addLayer(dem,vis_parama,\"DEM\")\n",
    "# 添加珠峰点\n",
    "Map.addLayer(xy,{'color':'red'},\"Mount Everest\")"
   ]
  },
  {
   "cell_type": "code",
   "execution_count": 11,
   "metadata": {},
   "outputs": [],
   "source": [
    "# 设定Map的视图中心\n",
    "Map.setCenter(86.9250, 27.9881, 5)"
   ]
  },
  {
   "cell_type": "code",
   "execution_count": 12,
   "metadata": {},
   "outputs": [],
   "source": [
    "Map.addLayerControl()  # 添加图层管理功能"
   ]
  }
 ],
 "metadata": {
  "kernelspec": {
   "display_name": ".venv",
   "language": "python",
   "name": "python3"
  },
  "language_info": {
   "codemirror_mode": {
    "name": "ipython",
    "version": 3
   },
   "file_extension": ".py",
   "mimetype": "text/x-python",
   "name": "python",
   "nbconvert_exporter": "python",
   "pygments_lexer": "ipython3",
   "version": "3.8.8rc1"
  },
  "orig_nbformat": 4
 },
 "nbformat": 4,
 "nbformat_minor": 2
}
